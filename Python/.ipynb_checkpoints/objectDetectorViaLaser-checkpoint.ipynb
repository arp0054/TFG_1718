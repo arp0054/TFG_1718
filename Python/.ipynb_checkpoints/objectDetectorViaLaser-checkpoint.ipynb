{
 "cells": [
  {
   "cell_type": "code",
   "execution_count": 1,
   "metadata": {},
   "outputs": [],
   "source": [
    "import socket\n",
    "import sys\n",
    "import binascii\n",
    "import numpy as np\n",
    "import matplotlib.pylab as plt\n",
    "import math\n",
    "import codecs\n",
    "from Area import Area\n",
    "from Punto import Punto"
   ]
  },
  {
   "cell_type": "code",
   "execution_count": 2,
   "metadata": {},
   "outputs": [],
   "source": [
    "def introduceAreas():\n",
    "    numero_areas=int(input('número de Areas: '))#.split(',')\n",
    "    numero_vertuces=numero_areas*4\n",
    "    areas=list()\n",
    "    for j in range(1,numero_areas+1):\n",
    "        print('coordenadas del área '+str(j)+':')\n",
    "        user_input = Area()\n",
    "        user_input.setLimites()\n",
    "        areas.append(user_input)\n",
    "    return areas"
   ]
  },
  {
   "cell_type": "code",
   "execution_count": 3,
   "metadata": {},
   "outputs": [
    {
     "name": "stdout",
     "output_type": "stream",
     "text": [
      "número de Areas: 2\n",
      "coordenadas del área 1:\n",
      "intriduce coordenada X e Y separadas por \",\" 1:1,2\n",
      "intriduce coordenada X e Y separadas por \",\" 2:2,3\n",
      "intriduce coordenada X e Y separadas por \",\" 3:3,4\n",
      "intriduce coordenada X e Y separadas por \",\" 4:4,5\n",
      "\n",
      "\n",
      "coordenadas del área 2:\n",
      "intriduce coordenada X e Y separadas por \",\" 1:5,6\n",
      "intriduce coordenada X e Y separadas por \",\" 2:6,7\n",
      "intriduce coordenada X e Y separadas por \",\" 3:7,8\n",
      "intriduce coordenada X e Y separadas por \",\" 4:8,9\n",
      "\n",
      "\n"
     ]
    }
   ],
   "source": [
    "areas_input=introduceAreas()"
   ]
  },
  {
   "cell_type": "code",
   "execution_count": 4,
   "metadata": {},
   "outputs": [
    {
     "name": "stdout",
     "output_type": "stream",
     "text": [
      "1 2\n",
      "2 3\n",
      "3 4\n",
      "4 5\n",
      "5 6\n",
      "6 7\n",
      "7 8\n",
      "8 9\n"
     ]
    }
   ],
   "source": [
    "for e in areas_input:\n",
    "    for p in e.getLimites():\n",
    "        print(p.getX(),p.getY())"
   ]
  },
  {
   "cell_type": "code",
   "execution_count": null,
   "metadata": {},
   "outputs": [],
   "source": [
    "# Se crea el socket\n",
    "sock = socket.socket(socket.AF_INET, socket.SOCK_STREAM)\n",
    "\n",
    "# Se conecta y se comprueba que la conexión se realizó con exito\n",
    "server_address = ('192.168.0.10', 10940)\n",
    "print (sys.stderr, 'connecting to %s port %s' % server_address)\n",
    "try:\n",
    "    sock.connect(server_address)\n",
    "except socket.timeout:\n",
    "    print('Error de conexion')\n",
    "try:\n",
    "    \n",
    "    # Envio del mensaje (000EAR02 - Envio continuo de información de escaneo)\n",
    "    message = [bytes([2]),chr(48),chr(48),chr(48),chr(69),chr(65),chr(82),chr(48),chr(50),binascii.unhexlify(b\"00\"),binascii.unhexlify(b\"83\"),bytes([3])]\n",
    "    b = bytearray()\n",
    "    b.extend(map(ord, message))\n",
    "    print (sys.stderr, 'sending \"%s\"' % b)\n",
    "    sock.send(b)\n",
    "\n",
    "    # Se recoge la respuesta (En este caso la información de lectura del láser)\n",
    "    num_sens=2\n",
    "    amount_received = 0\n",
    "    amount_expected = 4500*num_sens\n",
    "    print (sys.stderr, 'reciving \"%s\" bytes' % amount_expected)\n",
    "    sens=\"\"\n",
    "    while amount_received < amount_expected:\n",
    "        data = sock.recv(32)\n",
    "        #A demas de imprimirse para ver su correcto funcionamiento se almacena en forma de cadena\n",
    "        sens+= data.decode('utf-8')\n",
    "        amount_received += len(data)\n",
    "        print (sys.stderr, 'received \"%s\"' % data)\n",
    "    print(len(sens))\n",
    "finally:\n",
    "    print (sys.stderr, 'closing socket')\n",
    "    sock.close()"
   ]
  },
  {
   "cell_type": "code",
   "execution_count": null,
   "metadata": {},
   "outputs": [],
   "source": [
    "#Cadena con toda la información enviada por el láser\n",
    "sens"
   ]
  },
  {
   "cell_type": "code",
   "execution_count": null,
   "metadata": {},
   "outputs": [],
   "source": [
    "# Se separa los datos del resto de información enviada por el laser\n",
    "#sensing=sens[myString.find('\\x02')+1:myString.find('\\x03')]\n",
    "#sensing\n",
    "sensing = '000012BA1000000000011E011E0120012201200120011E011C0124011F011A011A012101210120011D0120011E011D011D011B011B011E011E011C01210125012501230121012301230123012501200120011B011C011C011E011C01230120012001200120012001280128011F011F0121012301230123012701270129012B012B012901290123012D012301230129012C012C012C012F013201320132013201320135012F0134013401380AC20AD00AE80B090B160B200B380B400B490B4A0B530B550B550B550B020AE80AE80AFB0B5A0B6D0B790BD70BEB0BF80C150C310C4D0C5B0B6B0AAF0AA80AA109B20756075607370734072707150721072107290727072A0733073D074D075B076107700771078D0791079F07BB07DF092F0C660C660C5A0C5A0D630DB00DE10DFE0E140E390E590E760E920EB70EE10F010F010D460D1E0D1A0D150D110D090D010CF90CF90CE90CE90CE80CE60CE20CDC0CD80CD20CD20CD00CC20CBB0CB80CAB0CA30C990C910C910C8D0CB30CD00D0F0D160D120D0A0D020CF80CF80CEF0CEB0CE70CE70CE40CE10CDD0CDA0CD80CD30CD20CD00CD00CC30CC00CBD0CB60CB20CB00CB40CB40CB20CAA0CAA0CA50CA50C9B0C9C0C9C0CA30C970C910C920C920C930C900C900C8F0C8D0C8D0C8D0C840C880C880C810C7E0C780C770C770C770C770C710C700C670C670C5C0C530C510C510C4D0C530C4E0C4E0C500C500C4E0C4E0C4D0C4D0C4A0C4A0C530C5B0C600C750C780C780C780C7E0C7E0C7B0C7B0C7A0C7B0C7D0C7D0C7D0C850C850C880C880C860C850C860C8E0C8C0C8C0C900C990CA10CEE0E2A0E360E3E0E440E4C0E4C0E4C0E570E570E570E5A0E5A0E5C0E630E650E6A0E700E6D0E6D0E770E790E820E890E890E8F0E950E960E9B0E9C0E9E0EAB0EAB0EAB0C03092F08FD08F908FF09610D7C0D940D770D880D830D8D0D870D9C0D910D970D940DA30DAC0DBF0DB20DCD0DCD0DC20DD60DE1065B063D063B064906510656063704AB04590428041E0418040903FC03F603EF03EA03E903DA03D403CD03C503BF03BF03AF03A903A9039F039B039A03950395038C0383037F037B037103700371036F036C0367035C0359035903530353035C036603640364034E034A034C034C034C035C043F05AC05F3060C0608060A05F805ED05F505F405EE05EB060706190615061C0626062206300638063D0643064F0658065006590658065A066706600657067A0685013901390343031D02D2020801990176015701470138013F01440154017301A5020D02E6038703FC05C405BE05E405E205F005EA05EA05ED05DB05D805DF05D405D705CC05C805C005CB05C205BD05C005C305BD05C105AC05B505B005AB05A5059D05A7059F0598059A0594058E0591059705920586058D05940592058C0583057C057C0577056C056E0571056805750575056C05670563055E056A05670568056605670569055D055A052A041A036903380338033903420341032C0319031B0320033A034403400345034E034303160312030B03190328033303470347034403420346036F0374037F03820382038203820385039D03A503B603B903BD03C303CB03CD03D903DC03DF0437044A04490447043E0435043004250425041D041D041904100410040C040A040304050405040103FE03F003F403F403F403F303F003ED03ED03EE04030403040303FC03F803F703F303F203F303F303F303EE03EE03E603E503E503E203E203E203E203DF03DF03D903D303D403D403D403D403D303D203D603EA03F90403040E040E042A042C043704480448045C03F002CB023E01FA01D901720162017F01C901EA01EA01E701E401D401D001D201D701D701D701D101CE01BE01A2019901960194018D018C018A018901880186017E018001860186017E0183017E017D017C017B017B017401740175017201720172016C016C016C015F01610161015E015E015E015E015E015D015C0159014E014E015701570157015E015C015E01690169016A0167015E015201520153015101510144013C013A0136013601370137013601360132012D012D01330136013C013C013C013C013B013B01410141014001420140013F0142014B014E014E015701570157015701570158015E0160016001590161016501660162015D015D01610168017401710166015A015201590157015701570157015701570167017A017A017C017C017D017D017D017D017901730162015901510151015001480148014F01480140013C0139013A013A013C013C013C01410141012E0116010900EC00E700E600E9010C011C01250120011000EC00E600D500D600E100F301060113010300EB00EB00EB00D400C700C900D000DF01290135014601460132010E00FE00FE00FE011E0135014401470147014701450136012D0107010501070120012F01400143014101410132010900C700BA00C600C600EB00FB00F500DD00DD00DD00F1011E01320139013A013B01380136013301380133012301230124013701350133012B00FE00FB00FE0100012B013501350114010300FC011C01330137013801360134013601360132013201320134012C012C012C012C012C012C012C012C012C012C012C01230124012C012C012C012C01250125012401240124012601270124012801240124012401250126012701270127012701260126012101210121012901290122011D01220122012201220122011B0122011B011B0122011B01280128012101200120012801280126012601250124012401240124012401220120011F011F012701270125012501250125012A012A012A012A012301230123012301230123012C012C012C01320132012D012C012C012C012C0134012C012C012D01320132012C012C012C0134012D012D012D012D0133013401340136013601360136013601360136012D0136013601360131013401340134013801380139013A013A013A013A01340135013B013B0135013B013E013C013C013D014001'"
   ]
  },
  {
   "cell_type": "code",
   "execution_count": null,
   "metadata": {},
   "outputs": [],
   "source": [
    "long, substr = int(len(sensing)), int(len(sensing)/1081)\n",
    "separated_data=[ [sensing[i:i+substr]] for i in range(0, long, substr) ]"
   ]
  },
  {
   "cell_type": "code",
   "execution_count": null,
   "metadata": {},
   "outputs": [],
   "source": [
    "separated_data"
   ]
  },
  {
   "cell_type": "code",
   "execution_count": null,
   "metadata": {},
   "outputs": [],
   "source": [
    "def toDecimal(sensin):\n",
    "    total=[]\n",
    "    for elem in sensin:\n",
    "        res=\"\"\n",
    "        for i in elem:\n",
    "            t=int(i,16)\n",
    "            if t > 0x30 and t < 0x39:\n",
    "                t = t - 0x30\n",
    "            elif t > 0x41 and t < 0x46:\n",
    "                t = t - 0x37\n",
    "            binario = bin(int(t))\n",
    "            res = res + str(binario)\n",
    "        total.append(str(int(res,2)))\n",
    "    return total"
   ]
  },
  {
   "cell_type": "code",
   "execution_count": null,
   "metadata": {},
   "outputs": [],
   "source": [
    "final=toDecimal(separated_data)\n",
    "print(len(final))\n",
    "#final"
   ]
  },
  {
   "cell_type": "code",
   "execution_count": null,
   "metadata": {},
   "outputs": [],
   "source": [
    "def creaangulos(x, y, jump):\n",
    "    while x < y:\n",
    "        yield x\n",
    "        x += jump"
   ]
  },
  {
   "cell_type": "code",
   "execution_count": null,
   "metadata": {},
   "outputs": [],
   "source": [
    "angulos=list(creaangulos(-45,225,270/1081))\n",
    "print(len(angulos))"
   ]
  },
  {
   "cell_type": "code",
   "execution_count": null,
   "metadata": {},
   "outputs": [],
   "source": [
    "cartesianos=[]\n",
    "for i in range(1081):\n",
    "    p=Punto(int(final[i]),angulos[i])\n",
    "    cartesianos.append(p)\n",
    "print(cartesianos)"
   ]
  },
  {
   "cell_type": "code",
   "execution_count": null,
   "metadata": {},
   "outputs": [],
   "source": [
    "def apolares(p):\n",
    "    x=p.getX()\n",
    "    y=p.getY()\n",
    "    c1=math.sqrt(x*x+y*y)\n",
    "    c2=0\n",
    "    \n",
    "    if x > 0:\n",
    "        if y >= 0:\n",
    "            c2=math.atan(y/x)\n",
    "        else:\n",
    "            c2=math.atan(y/x)+2*math.pi\n",
    "    elif x == 0:\n",
    "        if y > 0:\n",
    "            c2= math.pi/2\n",
    "        if y < 0:\n",
    "            c2= 3*math.pi/2\n",
    "        if y == 0:\n",
    "            c2=0\n",
    "    elif x < 0:\n",
    "        c2=math.atan(y/x)+math.pi\n",
    "    punPol=Punto(c1,c2)\n",
    "    \"\"\"elif math.radians(y)> -math.pi and math.radians(y)<=math.pi:\n",
    "        if x < 0:\n",
    "            if y >= 0:\n",
    "                c2=math.atan(y/x)+math.pi\n",
    "            else:\n",
    "                c2=math.atan(y/x)-math.pi\n",
    "        elif x == 0:\n",
    "            if y > 0:\n",
    "                c2= math.pi/2\n",
    "            if y < 0:\n",
    "                c2= -math.pi/2\n",
    "            if y == 0:\n",
    "                c2=0\n",
    "        elif x > 0:\n",
    "            c2=math.atan(y/x)\"\"\"\n",
    "    return punPol"
   ]
  },
  {
   "cell_type": "code",
   "execution_count": null,
   "metadata": {},
   "outputs": [],
   "source": [
    "polares=[]\n",
    "xs=[]\n",
    "ys=[]\n",
    "for pun in cartesianos:\n",
    "    punto=apolares(pun)\n",
    "    xs.append(punto.getX())\n",
    "    ys.append(punto.getY())\n",
    "    polares.append(punto)\n",
    "print(polares)"
   ]
  },
  {
   "cell_type": "code",
   "execution_count": null,
   "metadata": {},
   "outputs": [],
   "source": [
    "equis= np.array(xs)\n",
    "ies=np.array(ys)\n",
    "plt.scatter(equis,ies)#,angulos)\n",
    "plt.show()"
   ]
  },
  {
   "cell_type": "code",
   "execution_count": null,
   "metadata": {},
   "outputs": [],
   "source": [
    "message = [bytes([2]),chr(48),chr(48),chr(48),chr(69),chr(65),chr(82),chr(48),chr(49),binascii.unhexlify(b\"9B\"),binascii.unhexlify(b\"B1\"),bytes([3])]\n",
    "message \n",
    "b = bytearray()\n",
    "b.extend(map(ord, message))\n",
    "b"
   ]
  }
 ],
 "metadata": {
  "kernelspec": {
   "display_name": "Python 3",
   "language": "python",
   "name": "python3"
  },
  "language_info": {
   "codemirror_mode": {
    "name": "ipython",
    "version": 3
   },
   "file_extension": ".py",
   "mimetype": "text/x-python",
   "name": "python",
   "nbconvert_exporter": "python",
   "pygments_lexer": "ipython3",
   "version": "3.6.4"
  }
 },
 "nbformat": 4,
 "nbformat_minor": 2
}
